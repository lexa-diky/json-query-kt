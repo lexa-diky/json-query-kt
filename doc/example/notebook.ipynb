{
 "cells": [
  {
   "metadata": {
    "ExecuteTime": {
     "end_time": "2025-06-12T18:55:24.157405Z",
     "start_time": "2025-06-12T18:55:24.125455Z"
    }
   },
   "cell_type": "code",
   "source": [
    "import java.io.File\n",
    "import kotlinx.serialization.json.*\n",
    "import io.github.lexadiky.jsonquery.*\n",
    "\n",
    "val json = Json.parseToJsonElement(\n",
    "    File(\"dataset.json\").readText()\n",
    ")"
   ],
   "outputs": [],
   "execution_count": 15
  },
  {
   "metadata": {
    "ExecuteTime": {
     "end_time": "2025-06-12T18:55:24.188721Z",
     "start_time": "2025-06-12T18:55:24.162059Z"
    }
   },
   "cell_type": "code",
   "source": [
    "// Using path\n",
    "json.query { path(\"shelter.name\") }"
   ],
   "outputs": [
    {
     "data": {
      "text/plain": [
       "\"Purrfect Paws Cat Shelter\""
      ]
     },
     "execution_count": 16,
     "metadata": {},
     "output_type": "execute_result"
    }
   ],
   "execution_count": 16
  },
  {
   "metadata": {
    "ExecuteTime": {
     "end_time": "2025-06-12T18:55:24.240188Z",
     "start_time": "2025-06-12T18:55:24.193216Z"
    }
   },
   "cell_type": "code",
   "source": [
    "// Using path with index\n",
    "println(json.query { path(\"shelter.cats\")[0].path(\"name\") })\n",
    "println(json.query { path(\"shelter.cats.0.name\") })\n",
    "println(json.query(\"shelter.cats.0.name\"))"
   ],
   "outputs": [
    {
     "name": "stdout",
     "output_type": "stream",
     "text": [
      "\"Mittens\"\n",
      "\"Mittens\"\n",
      "\"Mittens\"\n"
     ]
    }
   ],
   "execution_count": 17
  },
  {
   "metadata": {
    "ExecuteTime": {
     "end_time": "2025-06-12T18:55:24.289865Z",
     "start_time": "2025-06-12T18:55:24.245203Z"
    }
   },
   "cell_type": "code",
   "source": [
    "// Using path with in array lookup\n",
    "json.query { path(\"shelter.cats.name\") }"
   ],
   "outputs": [
    {
     "data": {
      "text/plain": [
       "[\"Mittens\",\"Shadow\",\"Mumpkin\"]"
      ]
     },
     "execution_count": 18,
     "metadata": {},
     "output_type": "execute_result"
    }
   ],
   "execution_count": 18
  },
  {
   "metadata": {
    "ExecuteTime": {
     "end_time": "2025-06-12T18:55:24.329044Z",
     "start_time": "2025-06-12T18:55:24.294798Z"
    }
   },
   "cell_type": "code",
   "source": [
    "// Using path with filter\n",
    "json.query { path(\"shelter.cats.name\").filterT<String> { it.startsWith(\"M\") } }"
   ],
   "outputs": [
    {
     "data": {
      "text/plain": [
       "[\"Mittens\",\"Mumpkin\"]"
      ]
     },
     "execution_count": 19,
     "metadata": {},
     "output_type": "execute_result"
    }
   ],
   "execution_count": 19
  },
  {
   "metadata": {
    "ExecuteTime": {
     "end_time": "2025-06-12T18:55:24.365540Z",
     "start_time": "2025-06-12T18:55:24.336780Z"
    }
   },
   "cell_type": "code",
   "source": [
    "// Slices\n",
    "json.query { path(\"shelter.cats\")[0..1].path(\"name\") }"
   ],
   "outputs": [
    {
     "data": {
      "text/plain": [
       "[\"Mittens\",\"Shadow\"]"
      ]
     },
     "execution_count": 20,
     "metadata": {},
     "output_type": "execute_result"
    }
   ],
   "execution_count": 20
  },
  {
   "metadata": {
    "ExecuteTime": {
     "end_time": "2025-06-12T18:55:24.401311Z",
     "start_time": "2025-06-12T18:55:24.378477Z"
    }
   },
   "cell_type": "code",
   "source": [
    "// Wildcards\n",
    "json.query(\"shelter.*.name\")"
   ],
   "outputs": [
    {
     "data": {
      "text/plain": [
       "{\"cats\":[\"Mittens\",\"Shadow\",\"Mumpkin\"],\"staff\":[\"Linda Meowers\",\"Tom Catson\"],\"events\":[\"Adoption Day\"]}"
      ]
     },
     "execution_count": 21,
     "metadata": {},
     "output_type": "execute_result"
    }
   ],
   "execution_count": 21
  },
  {
   "metadata": {
    "ExecuteTime": {
     "end_time": "2025-06-12T18:55:24.495606Z",
     "start_time": "2025-06-12T18:55:24.405860Z"
    }
   },
   "cell_type": "code",
   "source": [
    "// Basic array operations\n",
    "println(json.query { path(\"shelter.cats.age\").first() })\n",
    "println(json.query { path(\"shelter.cats.age\").last() })\n",
    "println(json.query { path(\"shelter.cats.age\").distinct() })\n",
    "println(json.query { path(\"shelter.cats.age\").filterT<Int> { it >= 2 }.size() })"
   ],
   "outputs": [
    {
     "name": "stdout",
     "output_type": "stream",
     "text": [
      "3\n",
      "1\n",
      "[3,2,1]\n",
      "2\n"
     ]
    }
   ],
   "execution_count": 22
  },
  {
   "metadata": {
    "ExecuteTime": {
     "end_time": "2025-06-12T18:55:24.615335Z",
     "start_time": "2025-06-12T18:55:24.512169Z"
    }
   },
   "cell_type": "code",
   "source": [
    "// Aggregation operations\n",
    "println(json.query { path(\"shelter.cats.age\").max() })\n",
    "println(json.query { path(\"shelter.cats.age\").min() })\n",
    "println(json.query { path(\"shelter.cats.age\").average() })\n",
    "println(json.query { path(\"shelter.cats.age\").sum() })"
   ],
   "outputs": [
    {
     "name": "stdout",
     "output_type": "stream",
     "text": [
      "3.0\n",
      "1.0\n",
      "2.0\n",
      "6.0\n"
     ]
    }
   ],
   "execution_count": 23
  },
  {
   "metadata": {
    "ExecuteTime": {
     "end_time": "2025-06-12T18:55:24.690260Z",
     "start_time": "2025-06-12T18:55:24.639449Z"
    }
   },
   "cell_type": "code",
   "source": [
    "// Selecting specific fields\n",
    "println(json.query { path(\"shelter.cats.0\").select(\"name\", \"age\") })\n",
    "println(json.query { path(\"shelter.cats\").select(\"name\", \"age\") })"
   ],
   "outputs": [
    {
     "name": "stdout",
     "output_type": "stream",
     "text": [
      "{\"name\":\"Mittens\",\"age\":3}\n",
      "[{\"name\":\"Mittens\",\"age\":3},{\"name\":\"Shadow\",\"age\":2},{\"name\":\"Mumpkin\",\"age\":1}]\n"
     ]
    }
   ],
   "execution_count": 24
  },
  {
   "metadata": {
    "ExecuteTime": {
     "end_time": "2025-06-12T18:55:24.761615Z",
     "start_time": "2025-06-12T18:55:24.709231Z"
    }
   },
   "cell_type": "code",
   "source": [
    "// Aggregating data into object\n",
    "json.query {\n",
    "    path(\"shelter.cats\").qmap {\n",
    "        buildJsonObject {\n",
    "            put(\"names\", query { path(\"name\") })\n",
    "            put(\"ages\", query { path(\"age\") })\n",
    "        }\n",
    "    }\n",
    "}"
   ],
   "outputs": [
    {
     "data": {
      "text/plain": [
       "{\"names\":[\"Mittens\",\"Shadow\",\"Mumpkin\"],\"ages\":[3,2,1]}"
      ]
     },
     "execution_count": 25,
     "metadata": {},
     "output_type": "execute_result"
    }
   ],
   "execution_count": 25
  },
  {
   "metadata": {
    "ExecuteTime": {
     "end_time": "2025-06-12T18:55:24.817528Z",
     "start_time": "2025-06-12T18:55:24.765784Z"
    }
   },
   "cell_type": "code",
   "source": [
    "// Mapping\n",
    "val baseQuery = json.query(\"shelter.cats.0.name\")\n",
    "\n",
    "println(baseQuery.query { map { JsonPrimitive(it.jsonPrimitive.content.length) } })\n",
    "println(baseQuery.query { mapT<String, Int> { it.length } })"
   ],
   "outputs": [
    {
     "name": "stdout",
     "output_type": "stream",
     "text": [
      "7\n",
      "7\n"
     ]
    }
   ],
   "execution_count": 26
  },
  {
   "metadata": {
    "ExecuteTime": {
     "end_time": "2025-06-12T18:55:24.867968Z",
     "start_time": "2025-06-12T18:55:24.826212Z"
    }
   },
   "cell_type": "code",
   "source": [
    "// On Each\n",
    "json.query {\n",
    "    path(\"shelter.cats.name\").each {\n",
    "        mapT<String, Int> { it.length }\n",
    "    }\n",
    "}"
   ],
   "outputs": [
    {
     "data": {
      "text/plain": [
       "[7,6,7]"
      ]
     },
     "execution_count": 27,
     "metadata": {},
     "output_type": "execute_result"
    }
   ],
   "execution_count": 27
  },
  {
   "metadata": {
    "ExecuteTime": {
     "end_time": "2025-06-12T18:55:24.977613Z",
     "start_time": "2025-06-12T18:55:24.876509Z"
    }
   },
   "cell_type": "code",
   "source": [
    "// List and map type conversions\n",
    "println(\n",
    "    json.query {\n",
    "        path(\"shelter.cats.age\")\n",
    "            .mapT<List<String>, String> { it.joinToString(\", \") }\n",
    "    }\n",
    ")\n",
    "\n",
    "println(\n",
    "    json.query {\n",
    "        path(\"shelter.cats.0\")\n",
    "            .mapT<Map<String, String>, List<String>> { it.keys.toList() }\n",
    "    }\n",
    ")"
   ],
   "outputs": [
    {
     "name": "stdout",
     "output_type": "stream",
     "text": [
      "\"3, 2, 1\"\n",
      "[\"id\",\"name\",\"age\",\"breed\",\"color\",\"gender\",\"adopted\"]\n"
     ]
    }
   ],
   "execution_count": 28
  },
  {
   "metadata": {
    "ExecuteTime": {
     "end_time": "2025-06-12T18:55:25.026568Z",
     "start_time": "2025-06-12T18:55:24.985193Z"
    }
   },
   "cell_type": "code",
   "source": [
    "// Type conversion\n",
    "json.queryAs<List<String>> { path(\"shelter.cats.name\") }"
   ],
   "outputs": [
    {
     "data": {
      "text/plain": [
       "[Mittens, Shadow, Mumpkin]"
      ]
     },
     "execution_count": 29,
     "metadata": {},
     "output_type": "execute_result"
    }
   ],
   "execution_count": 29
  }
 ],
 "metadata": {
  "kernelspec": {
   "display_name": "Kotlin",
   "language": "kotlin",
   "name": "kotlin"
  },
  "language_info": {
   "name": "kotlin",
   "version": "1.9.23",
   "mimetype": "text/x-kotlin",
   "file_extension": ".kt",
   "pygments_lexer": "kotlin",
   "codemirror_mode": "text/x-kotlin",
   "nbconvert_exporter": ""
  },
  "ktnbPluginMetadata": {
   "projectLibraries": false,
   "projectDependencies": [
    "json-query-kt.jvmMain"
   ]
  }
 },
 "nbformat": 4,
 "nbformat_minor": 0
}
