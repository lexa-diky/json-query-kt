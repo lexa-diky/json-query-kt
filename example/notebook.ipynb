{
 "cells": [
  {
   "cell_type": "code",
   "metadata": {
    "collapsed": true,
    "ExecuteTime": {
     "end_time": "2025-06-12T10:35:33.688579Z",
     "start_time": "2025-06-12T10:35:33.614124Z"
    }
   },
   "source": [
    "import java.io.File\n",
    "import kotlinx.serialization.json.*\n",
    "import io.github.lexadiky.jsonquery.*\n",
    "\n",
    "val json = Json.parseToJsonElement(\n",
    "    File(\"dataset.json\").readText()\n",
    ")"
   ],
   "outputs": [],
   "execution_count": 1
  },
  {
   "metadata": {
    "ExecuteTime": {
     "end_time": "2025-06-12T10:35:33.773834Z",
     "start_time": "2025-06-12T10:35:33.693198Z"
    }
   },
   "cell_type": "code",
   "source": [
    "// Using path\n",
    "json.query { path(\"shelter.name\") }"
   ],
   "outputs": [
    {
     "data": {
      "text/plain": [
       "\"Purrfect Paws Cat Shelter\""
      ]
     },
     "execution_count": 2,
     "metadata": {},
     "output_type": "execute_result"
    }
   ],
   "execution_count": 2
  },
  {
   "metadata": {
    "ExecuteTime": {
     "end_time": "2025-06-12T10:35:33.897364Z",
     "start_time": "2025-06-12T10:35:33.779530Z"
    }
   },
   "cell_type": "code",
   "source": [
    "// Using path with index\n",
    "println(json.query { path(\"shelter.cats\")[0].path(\"name\") })\n",
    "println(json.query { path(\"shelter.cats.0.name\") })\n",
    "println(json.query(\"shelter.cats.0.name\"))"
   ],
   "outputs": [
    {
     "name": "stdout",
     "output_type": "stream",
     "text": [
      "\"Mittens\"\n",
      "\"Mittens\"\n",
      "\"Mittens\"\n"
     ]
    }
   ],
   "execution_count": 3
  },
  {
   "metadata": {
    "ExecuteTime": {
     "end_time": "2025-06-12T10:35:33.959676Z",
     "start_time": "2025-06-12T10:35:33.913240Z"
    }
   },
   "cell_type": "code",
   "source": [
    "// Using path with in array lookup\n",
    "json.query { path(\"shelter.cats.name\") }"
   ],
   "outputs": [
    {
     "data": {
      "text/plain": [
       "[\"Mittens\",\"Shadow\",\"Mumpkin\"]"
      ]
     },
     "execution_count": 4,
     "metadata": {},
     "output_type": "execute_result"
    }
   ],
   "execution_count": 4
  },
  {
   "metadata": {
    "ExecuteTime": {
     "end_time": "2025-06-12T10:35:34.061504Z",
     "start_time": "2025-06-12T10:35:33.967060Z"
    }
   },
   "cell_type": "code",
   "source": [
    "// Using path with filter\n",
    "json.query { path(\"shelter.cats.name\").filterT<String> { it.startsWith(\"M\") } }"
   ],
   "outputs": [
    {
     "data": {
      "text/plain": [
       "[\"Mittens\",\"Mumpkin\"]"
      ]
     },
     "execution_count": 5,
     "metadata": {},
     "output_type": "execute_result"
    }
   ],
   "execution_count": 5
  },
  {
   "metadata": {
    "ExecuteTime": {
     "end_time": "2025-06-12T10:35:34.120872Z",
     "start_time": "2025-06-12T10:35:34.067160Z"
    }
   },
   "cell_type": "code",
   "source": [
    "// Slices\n",
    "json.query { path(\"shelter.cats\")[0..1].path(\"name\") }"
   ],
   "outputs": [
    {
     "data": {
      "text/plain": [
       "[\"Mittens\",\"Shadow\"]"
      ]
     },
     "execution_count": 6,
     "metadata": {},
     "output_type": "execute_result"
    }
   ],
   "execution_count": 6
  },
  {
   "metadata": {
    "ExecuteTime": {
     "end_time": "2025-06-12T10:35:34.287050Z",
     "start_time": "2025-06-12T10:35:34.125964Z"
    }
   },
   "cell_type": "code",
   "source": [
    "// Statistical operations\n",
    "println(json.query { path(\"shelter.cats.age\").max() })\n",
    "println(json.query { path(\"shelter.cats.age\").min() })\n",
    "println(json.query { path(\"shelter.cats.age\").average() })\n",
    "println(json.query { path(\"shelter.cats.age\").sum() })\n",
    "println(json.query { path(\"shelter.cats.age\").first() })\n",
    "println(json.query { path(\"shelter.cats.age\").last() })\n",
    "println(json.query { path(\"shelter.cats.age\").filterT<Int> { it >= 2 }.size() })"
   ],
   "outputs": [
    {
     "name": "stdout",
     "output_type": "stream",
     "text": [
      "3.0\n",
      "1.0\n",
      "2.0\n",
      "6.0\n",
      "3\n",
      "1\n",
      "2\n"
     ]
    }
   ],
   "execution_count": 7
  },
  {
   "metadata": {
    "ExecuteTime": {
     "end_time": "2025-06-12T10:35:34.370102Z",
     "start_time": "2025-06-12T10:35:34.292948Z"
    }
   },
   "cell_type": "code",
   "source": [
    "// Selecting specific fields\n",
    "println(json.query { path(\"shelter.cats.0\").select(\"name\", \"age\") })\n",
    "println(json.query { path(\"shelter.cats\").select(\"name\", \"age\") })"
   ],
   "outputs": [
    {
     "name": "stdout",
     "output_type": "stream",
     "text": [
      "{\"name\":\"Mittens\",\"age\":3}\n",
      "[{\"name\":\"Mittens\",\"age\":3},{\"name\":\"Shadow\",\"age\":2},{\"name\":\"Mumpkin\",\"age\":1}]\n"
     ]
    }
   ],
   "execution_count": 8
  },
  {
   "metadata": {
    "ExecuteTime": {
     "end_time": "2025-06-12T10:35:34.462703Z",
     "start_time": "2025-06-12T10:35:34.381060Z"
    }
   },
   "cell_type": "code",
   "source": [
    "// Aggregating data into object\n",
    "json.query {\n",
    "    path(\"shelter.cats\").qmap {\n",
    "        buildJsonObject {\n",
    "            put(\"names\", query { path(\"name\") })\n",
    "            put(\"ages\", query { path(\"age\") })\n",
    "        }\n",
    "    }\n",
    "}"
   ],
   "outputs": [
    {
     "data": {
      "text/plain": [
       "{\"names\":[\"Mittens\",\"Shadow\",\"Mumpkin\"],\"ages\":[3,2,1]}"
      ]
     },
     "execution_count": 9,
     "metadata": {},
     "output_type": "execute_result"
    }
   ],
   "execution_count": 9
  },
  {
   "metadata": {
    "ExecuteTime": {
     "end_time": "2025-06-12T10:35:34.538195Z",
     "start_time": "2025-06-12T10:35:34.467998Z"
    }
   },
   "cell_type": "code",
   "source": [
    "// Mapping\n",
    "val baseQuery = json.query(\"shelter.cats.0.name\")\n",
    "\n",
    "println(baseQuery.query { map { JsonPrimitive(it.jsonPrimitive.content.length) } })\n",
    "println(baseQuery.query { mapT<String, Int> { it.length } })"
   ],
   "outputs": [
    {
     "name": "stdout",
     "output_type": "stream",
     "text": [
      "7\n",
      "7\n"
     ]
    }
   ],
   "execution_count": 10
  },
  {
   "metadata": {
    "ExecuteTime": {
     "end_time": "2025-06-12T10:35:34.593788Z",
     "start_time": "2025-06-12T10:35:34.547718Z"
    }
   },
   "cell_type": "code",
   "source": [
    "// On Each\n",
    "json.query {\n",
    "    path(\"shelter.cats.name\").each {\n",
    "        mapT<String, Int> { it.length }\n",
    "    }\n",
    "}"
   ],
   "outputs": [
    {
     "data": {
      "text/plain": [
       "[7,6,7]"
      ]
     },
     "execution_count": 11,
     "metadata": {},
     "output_type": "execute_result"
    }
   ],
   "execution_count": 11
  },
  {
   "metadata": {
    "ExecuteTime": {
     "end_time": "2025-06-12T10:35:34.719221Z",
     "start_time": "2025-06-12T10:35:34.600409Z"
    }
   },
   "cell_type": "code",
   "source": [
    "// List and map type conversions\n",
    "println(\n",
    "    json.query {\n",
    "        path(\"shelter.cats.age\")\n",
    "            .mapT<List<String>, String> { it.joinToString(\", \") }\n",
    "    }\n",
    ")\n",
    "\n",
    "println(\n",
    "    json.query {\n",
    "        path(\"shelter.cats.0\")\n",
    "            .mapT<Map<String, String>, List<String>> { it.keys.toList() }\n",
    "    }\n",
    ")"
   ],
   "outputs": [
    {
     "name": "stdout",
     "output_type": "stream",
     "text": [
      "\"3, 2, 1\"\n",
      "[\"id\",\"name\",\"age\",\"breed\",\"color\",\"gender\",\"adopted\"]\n"
     ]
    }
   ],
   "execution_count": 12
  },
  {
   "metadata": {
    "ExecuteTime": {
     "end_time": "2025-06-12T10:35:34.784109Z",
     "start_time": "2025-06-12T10:35:34.723850Z"
    }
   },
   "cell_type": "code",
   "source": [
    "// Type conversion\n",
    "json.cquery<List<String>> { path(\"shelter.cats.name\") }"
   ],
   "outputs": [
    {
     "data": {
      "text/plain": [
       "[Mittens, Shadow, Mumpkin]"
      ]
     },
     "execution_count": 13,
     "metadata": {},
     "output_type": "execute_result"
    }
   ],
   "execution_count": 13
  }
 ],
 "metadata": {
  "kernelspec": {
   "display_name": "Kotlin",
   "language": "kotlin",
   "name": "kotlin"
  },
  "language_info": {
   "name": "kotlin",
   "version": "1.9.23",
   "mimetype": "text/x-kotlin",
   "file_extension": ".kt",
   "pygments_lexer": "kotlin",
   "codemirror_mode": "text/x-kotlin",
   "nbconvert_exporter": ""
  },
  "ktnbPluginMetadata": {
   "projectLibraries": false,
   "projectDependencies": [
    "json-query-kt.jvmMain"
   ]
  }
 },
 "nbformat": 4,
 "nbformat_minor": 0
}
