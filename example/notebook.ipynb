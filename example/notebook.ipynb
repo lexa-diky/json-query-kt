{
 "cells": [
  {
   "cell_type": "code",
   "metadata": {
    "collapsed": true,
    "ExecuteTime": {
     "end_time": "2025-06-12T07:16:46.565298Z",
     "start_time": "2025-06-12T07:16:46.536647Z"
    }
   },
   "source": [
    "import kotlinx.serialization.json.Json\n",
    "import java.io.File\n",
    "import io.github.lexadiky.jsonquery.*\n",
    "\n",
    "val json = Json.parseToJsonElement(\n",
    "    File(\"dataset.json\").readText()\n",
    ")"
   ],
   "outputs": [],
   "execution_count": 47
  },
  {
   "metadata": {
    "ExecuteTime": {
     "end_time": "2025-06-12T07:16:46.592412Z",
     "start_time": "2025-06-12T07:16:46.568030Z"
    }
   },
   "cell_type": "code",
   "source": [
    "// Using path\n",
    "println(json.query { path(\"shelter.name\") })"
   ],
   "outputs": [
    {
     "name": "stdout",
     "output_type": "stream",
     "text": [
      "\"Purrfect Paws Cat Shelter\"\n"
     ]
    }
   ],
   "execution_count": 48
  },
  {
   "metadata": {
    "ExecuteTime": {
     "end_time": "2025-06-12T07:16:46.625401Z",
     "start_time": "2025-06-12T07:16:46.596405Z"
    }
   },
   "cell_type": "code",
   "source": [
    "// Using path with index\n",
    "println(json.query { path(\"shelter.cats\")[0].path(\"name\") })\n",
    "println(json.query { path(\"shelter.cats.0.name\") })"
   ],
   "outputs": [
    {
     "name": "stdout",
     "output_type": "stream",
     "text": [
      "\"Mittens\"\n",
      "\"Mittens\"\n"
     ]
    }
   ],
   "execution_count": 49
  },
  {
   "metadata": {
    "ExecuteTime": {
     "end_time": "2025-06-12T07:16:46.649608Z",
     "start_time": "2025-06-12T07:16:46.629265Z"
    }
   },
   "cell_type": "code",
   "source": [
    "// Using path with in array lookup\n",
    "println(json.query { path(\"shelter.cats.name\") })"
   ],
   "outputs": [
    {
     "name": "stdout",
     "output_type": "stream",
     "text": [
      "[\"Mittens\",\"Shadow\",\"Mumpkin\"]\n"
     ]
    }
   ],
   "execution_count": 50
  },
  {
   "metadata": {
    "ExecuteTime": {
     "end_time": "2025-06-12T07:16:46.686405Z",
     "start_time": "2025-06-12T07:16:46.653069Z"
    }
   },
   "cell_type": "code",
   "source": [
    "// Using path with filter\n",
    "println(json.query { path(\"shelter.cats.name\").filterT<String> { it.startsWith(\"M\") } })"
   ],
   "outputs": [
    {
     "name": "stdout",
     "output_type": "stream",
     "text": [
      "[\"Mittens\",\"Mumpkin\"]\n"
     ]
    }
   ],
   "execution_count": 51
  },
  {
   "metadata": {
    "ExecuteTime": {
     "end_time": "2025-06-12T07:16:46.719151Z",
     "start_time": "2025-06-12T07:16:46.690573Z"
    }
   },
   "cell_type": "code",
   "source": [
    "// Slices\n",
    "println(json.query { path(\"shelter.cats\")[0..1].path(\"name\") })"
   ],
   "outputs": [
    {
     "name": "stdout",
     "output_type": "stream",
     "text": [
      "[\"Mittens\",\"Shadow\"]\n"
     ]
    }
   ],
   "execution_count": 52
  },
  {
   "metadata": {
    "ExecuteTime": {
     "end_time": "2025-06-12T07:16:46.790250Z",
     "start_time": "2025-06-12T07:16:46.723654Z"
    }
   },
   "cell_type": "code",
   "source": [
    "// Statistical operations\n",
    "println(json.query { path(\"shelter.cats.age\").max() })\n",
    "println(json.query { path(\"shelter.cats.age\").min() })\n",
    "println(json.query { path(\"shelter.cats.age\").average() })\n",
    "println(json.query { path(\"shelter.cats.age\").sum() })\n",
    "println(json.query { path(\"shelter.cats.age\").first() })\n",
    "println(json.query { path(\"shelter.cats.age\").last() })\n",
    "println(json.query { path(\"shelter.cats.age\").filterT<Int> { it >= 2 }.size() })"
   ],
   "outputs": [
    {
     "name": "stdout",
     "output_type": "stream",
     "text": [
      "3.0\n",
      "1.0\n",
      "2.0\n",
      "6.0\n",
      "3\n",
      "1\n",
      "2\n"
     ]
    }
   ],
   "execution_count": 53
  },
  {
   "metadata": {
    "ExecuteTime": {
     "end_time": "2025-06-12T07:16:46.822286Z",
     "start_time": "2025-06-12T07:16:46.794129Z"
    }
   },
   "cell_type": "code",
   "source": [
    "// Selecting specific fields\n",
    "println(json.query { path(\"shelter.cats.0\").select(\"name\", \"age\") })\n",
    "println(json.query { path(\"shelter.cats\").select(\"name\", \"age\") })"
   ],
   "outputs": [
    {
     "name": "stdout",
     "output_type": "stream",
     "text": [
      "{\"name\":\"Mittens\",\"age\":3}\n",
      "[{\"name\":\"Mittens\",\"age\":3},{\"name\":\"Shadow\",\"age\":2},{\"name\":\"Mumpkin\",\"age\":1}]\n"
     ]
    }
   ],
   "execution_count": 54
  },
  {
   "metadata": {
    "ExecuteTime": {
     "end_time": "2025-06-12T07:16:46.869175Z",
     "start_time": "2025-06-12T07:16:46.832720Z"
    }
   },
   "cell_type": "code",
   "source": [
    "import kotlinx.serialization.json.buildJsonObject\n",
    "\n",
    "// Aggregating data into object\n",
    "println(json.query {\n",
    "    path(\"shelter.cats\").qmap {\n",
    "        buildJsonObject {\n",
    "            put(\"names\", query { path(\"name\") })\n",
    "            put(\"ages\", query { path(\"age\") })\n",
    "        }\n",
    "    }\n",
    "})"
   ],
   "outputs": [
    {
     "name": "stdout",
     "output_type": "stream",
     "text": [
      "{\"names\":[\"Mittens\",\"Shadow\",\"Mumpkin\"],\"ages\":[3,2,1]}\n"
     ]
    }
   ],
   "execution_count": 55
  }
 ],
 "metadata": {
  "kernelspec": {
   "display_name": "Kotlin",
   "language": "kotlin",
   "name": "kotlin"
  },
  "language_info": {
   "name": "kotlin",
   "version": "1.9.23",
   "mimetype": "text/x-kotlin",
   "file_extension": ".kt",
   "pygments_lexer": "kotlin",
   "codemirror_mode": "text/x-kotlin",
   "nbconvert_exporter": ""
  },
  "ktnbPluginMetadata": {
   "projectLibraries": false,
   "projectDependencies": [
    "json-query-kt.jvmMain"
   ]
  }
 },
 "nbformat": 4,
 "nbformat_minor": 0
}
