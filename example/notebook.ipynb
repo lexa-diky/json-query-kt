{
 "cells": [
  {
   "cell_type": "code",
   "metadata": {
    "collapsed": true
   },
   "source": [
    "import kotlinx.serialization.json.Json\n",
    "import java.io.File\n",
    "\n",
    "val json = Json.parseToJsonElement(\n",
    "    File(\"dataset.json\").readText()\n",
    ")"
   ],
   "outputs": [],
   "execution_count": null
  },
  {
   "metadata": {},
   "cell_type": "code",
   "source": [
    "import io.github.lexadiky.jsonquery.query\n",
    "\n",
    "// Using path\n",
    "println(json.query { path(\"shelter.name\") }) // \"Purrfect Paws Cat Shelter\"\n",
    "\n",
    "// Using path with index\n",
    "println(json.query { path(\"shelter.cats\")[0].path(\"name\") }) // \"Mittens\"\n",
    "\n",
    "// Using path with in array lookup\n",
    "println(json.query { path(\"shelter.cats.name\") }) // [\"Mittens\",\"Shadow\",\"Mumpkin\"]\n",
    "\n",
    "// Using path with filter\n",
    "println(json.query { path(\"shelter.cats.name\").filterT<String> { it.startsWith(\"M\") } }) // [\"Mittens\",\"Mumpkin\"]"
   ],
   "outputs": [],
   "execution_count": null
  },
  {
   "metadata": {},
   "cell_type": "code",
   "source": "",
   "outputs": [],
   "execution_count": null
  }
 ],
 "metadata": {
  "kernelspec": {
   "display_name": "Kotlin",
   "language": "kotlin",
   "name": "kotlin"
  },
  "language_info": {
   "name": "kotlin",
   "version": "1.9.23",
   "mimetype": "text/x-kotlin",
   "file_extension": ".kt",
   "pygments_lexer": "kotlin",
   "codemirror_mode": "text/x-kotlin",
   "nbconvert_exporter": ""
  },
  "ktnbPluginMetadata": {
   "projectLibraries": false,
   "projectDependencies": [
    "json-query-kt.jvmMain"
   ]
  }
 },
 "nbformat": 4,
 "nbformat_minor": 0
}
