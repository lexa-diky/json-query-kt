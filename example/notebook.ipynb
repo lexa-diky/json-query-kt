{
 "cells": [
  {
   "cell_type": "code",
   "metadata": {
    "collapsed": true,
    "ExecuteTime": {
     "end_time": "2025-06-12T11:41:11.106591Z",
     "start_time": "2025-06-12T11:41:11.030593Z"
    }
   },
   "source": [
    "import java.io.File\n",
    "import kotlinx.serialization.json.*\n",
    "import io.github.lexadiky.jsonquery.*\n",
    "\n",
    "val json = Json.parseToJsonElement(\n",
    "    File(\"dataset.json\").readText()\n",
    ")"
   ],
   "outputs": [],
   "execution_count": 3
  },
  {
   "metadata": {
    "ExecuteTime": {
     "end_time": "2025-06-12T11:41:11.188905Z",
     "start_time": "2025-06-12T11:41:11.110851Z"
    }
   },
   "cell_type": "code",
   "source": [
    "// Using path\n",
    "json.query { path(\"shelter.name\") }"
   ],
   "outputs": [
    {
     "data": {
      "text/plain": [
       "\"Purrfect Paws Cat Shelter\""
      ]
     },
     "execution_count": 4,
     "metadata": {},
     "output_type": "execute_result"
    }
   ],
   "execution_count": 4
  },
  {
   "metadata": {
    "ExecuteTime": {
     "end_time": "2025-06-12T11:41:11.285085Z",
     "start_time": "2025-06-12T11:41:11.195222Z"
    }
   },
   "cell_type": "code",
   "source": [
    "// Using path with index\n",
    "println(json.query { path(\"shelter.cats\")[0].path(\"name\") })\n",
    "println(json.query { path(\"shelter.cats.0.name\") })\n",
    "println(json.query(\"shelter.cats.0.name\"))"
   ],
   "outputs": [
    {
     "name": "stdout",
     "output_type": "stream",
     "text": [
      "\"Mittens\"\n",
      "\"Mittens\"\n",
      "\"Mittens\"\n"
     ]
    }
   ],
   "execution_count": 5
  },
  {
   "metadata": {
    "ExecuteTime": {
     "end_time": "2025-06-12T11:41:11.331050Z",
     "start_time": "2025-06-12T11:41:11.291633Z"
    }
   },
   "cell_type": "code",
   "source": [
    "// Using path with in array lookup\n",
    "json.query { path(\"shelter.cats.name\") }"
   ],
   "outputs": [
    {
     "data": {
      "text/plain": [
       "[\"Mittens\",\"Shadow\",\"Mumpkin\"]"
      ]
     },
     "execution_count": 6,
     "metadata": {},
     "output_type": "execute_result"
    }
   ],
   "execution_count": 6
  },
  {
   "metadata": {
    "ExecuteTime": {
     "end_time": "2025-06-12T11:41:11.412810Z",
     "start_time": "2025-06-12T11:41:11.339069Z"
    }
   },
   "cell_type": "code",
   "source": [
    "// Using path with filter\n",
    "json.query { path(\"shelter.cats.name\").filterT<String> { it.startsWith(\"M\") } }"
   ],
   "outputs": [
    {
     "data": {
      "text/plain": [
       "[\"Mittens\",\"Mumpkin\"]"
      ]
     },
     "execution_count": 7,
     "metadata": {},
     "output_type": "execute_result"
    }
   ],
   "execution_count": 7
  },
  {
   "metadata": {
    "ExecuteTime": {
     "end_time": "2025-06-12T11:41:11.478814Z",
     "start_time": "2025-06-12T11:41:11.417647Z"
    }
   },
   "cell_type": "code",
   "source": [
    "// Slices\n",
    "json.query { path(\"shelter.cats\")[0..1].path(\"name\") }"
   ],
   "outputs": [
    {
     "data": {
      "text/plain": [
       "[\"Mittens\",\"Shadow\"]"
      ]
     },
     "execution_count": 8,
     "metadata": {},
     "output_type": "execute_result"
    }
   ],
   "execution_count": 8
  },
  {
   "metadata": {
    "ExecuteTime": {
     "end_time": "2025-06-12T11:41:37.679475Z",
     "start_time": "2025-06-12T11:41:37.650343Z"
    }
   },
   "cell_type": "code",
   "source": [
    "// Wildcards\n",
    "json.query(\"shelter.*.name\")"
   ],
   "outputs": [
    {
     "data": {
      "text/plain": [
       "{\"cats\":[\"Mittens\",\"Shadow\",\"Mumpkin\"],\"staff\":[\"Linda Meowers\",\"Tom Catson\"],\"events\":[\"Adoption Day\"]}"
      ]
     },
     "execution_count": 20,
     "metadata": {},
     "output_type": "execute_result"
    }
   ],
   "execution_count": 20
  },
  {
   "metadata": {
    "ExecuteTime": {
     "end_time": "2025-06-12T11:41:11.672168Z",
     "start_time": "2025-06-12T11:41:11.520076Z"
    }
   },
   "cell_type": "code",
   "source": [
    "// Statistical operations\n",
    "println(json.query { path(\"shelter.cats.age\").max() })\n",
    "println(json.query { path(\"shelter.cats.age\").min() })\n",
    "println(json.query { path(\"shelter.cats.age\").average() })\n",
    "println(json.query { path(\"shelter.cats.age\").sum() })\n",
    "println(json.query { path(\"shelter.cats.age\").first() })\n",
    "println(json.query { path(\"shelter.cats.age\").last() })\n",
    "println(json.query { path(\"shelter.cats.age\").filterT<Int> { it >= 2 }.size() })"
   ],
   "outputs": [
    {
     "name": "stdout",
     "output_type": "stream",
     "text": [
      "3.0\n",
      "1.0\n",
      "2.0\n",
      "6.0\n",
      "3\n",
      "1\n",
      "2\n"
     ]
    }
   ],
   "execution_count": 10
  },
  {
   "metadata": {
    "ExecuteTime": {
     "end_time": "2025-06-12T11:41:11.721722Z",
     "start_time": "2025-06-12T11:41:11.676886Z"
    }
   },
   "cell_type": "code",
   "source": [
    "// Selecting specific fields\n",
    "println(json.query { path(\"shelter.cats.0\").select(\"name\", \"age\") })\n",
    "println(json.query { path(\"shelter.cats\").select(\"name\", \"age\") })"
   ],
   "outputs": [
    {
     "name": "stdout",
     "output_type": "stream",
     "text": [
      "{\"name\":\"Mittens\",\"age\":3}\n",
      "[{\"name\":\"Mittens\",\"age\":3},{\"name\":\"Shadow\",\"age\":2},{\"name\":\"Mumpkin\",\"age\":1}]\n"
     ]
    }
   ],
   "execution_count": 11
  },
  {
   "metadata": {
    "ExecuteTime": {
     "end_time": "2025-06-12T11:41:11.791065Z",
     "start_time": "2025-06-12T11:41:11.725696Z"
    }
   },
   "cell_type": "code",
   "source": [
    "// Aggregating data into object\n",
    "json.query {\n",
    "    path(\"shelter.cats\").qmap {\n",
    "        buildJsonObject {\n",
    "            put(\"names\", query { path(\"name\") })\n",
    "            put(\"ages\", query { path(\"age\") })\n",
    "        }\n",
    "    }\n",
    "}"
   ],
   "outputs": [
    {
     "data": {
      "text/plain": [
       "{\"names\":[\"Mittens\",\"Shadow\",\"Mumpkin\"],\"ages\":[3,2,1]}"
      ]
     },
     "execution_count": 12,
     "metadata": {},
     "output_type": "execute_result"
    }
   ],
   "execution_count": 12
  },
  {
   "metadata": {
    "ExecuteTime": {
     "end_time": "2025-06-12T11:41:11.905718Z",
     "start_time": "2025-06-12T11:41:11.795780Z"
    }
   },
   "cell_type": "code",
   "source": [
    "// Mapping\n",
    "val baseQuery = json.query(\"shelter.cats.0.name\")\n",
    "\n",
    "println(baseQuery.query { map { JsonPrimitive(it.jsonPrimitive.content.length) } })\n",
    "println(baseQuery.query { mapT<String, Int> { it.length } })"
   ],
   "outputs": [
    {
     "name": "stdout",
     "output_type": "stream",
     "text": [
      "7\n",
      "7\n"
     ]
    }
   ],
   "execution_count": 13
  },
  {
   "metadata": {
    "ExecuteTime": {
     "end_time": "2025-06-12T11:41:11.969756Z",
     "start_time": "2025-06-12T11:41:11.920863Z"
    }
   },
   "cell_type": "code",
   "source": [
    "// On Each\n",
    "json.query {\n",
    "    path(\"shelter.cats.name\").each {\n",
    "        mapT<String, Int> { it.length }\n",
    "    }\n",
    "}"
   ],
   "outputs": [
    {
     "data": {
      "text/plain": [
       "[7,6,7]"
      ]
     },
     "execution_count": 14,
     "metadata": {},
     "output_type": "execute_result"
    }
   ],
   "execution_count": 14
  },
  {
   "metadata": {
    "ExecuteTime": {
     "end_time": "2025-06-12T11:41:12.067193Z",
     "start_time": "2025-06-12T11:41:11.974793Z"
    }
   },
   "cell_type": "code",
   "source": [
    "// List and map type conversions\n",
    "println(\n",
    "    json.query {\n",
    "        path(\"shelter.cats.age\")\n",
    "            .mapT<List<String>, String> { it.joinToString(\", \") }\n",
    "    }\n",
    ")\n",
    "\n",
    "println(\n",
    "    json.query {\n",
    "        path(\"shelter.cats.0\")\n",
    "            .mapT<Map<String, String>, List<String>> { it.keys.toList() }\n",
    "    }\n",
    ")"
   ],
   "outputs": [
    {
     "name": "stdout",
     "output_type": "stream",
     "text": [
      "\"3, 2, 1\"\n",
      "[\"id\",\"name\",\"age\",\"breed\",\"color\",\"gender\",\"adopted\"]\n"
     ]
    }
   ],
   "execution_count": 15
  },
  {
   "metadata": {
    "ExecuteTime": {
     "end_time": "2025-06-12T11:41:12.120883Z",
     "start_time": "2025-06-12T11:41:12.072142Z"
    }
   },
   "cell_type": "code",
   "source": [
    "// Type conversion\n",
    "json.queryAs<List<String>> { path(\"shelter.cats.name\") }"
   ],
   "outputs": [
    {
     "data": {
      "text/plain": [
       "[Mittens, Shadow, Mumpkin]"
      ]
     },
     "execution_count": 16,
     "metadata": {},
     "output_type": "execute_result"
    }
   ],
   "execution_count": 16
  }
 ],
 "metadata": {
  "kernelspec": {
   "display_name": "Kotlin",
   "language": "kotlin",
   "name": "kotlin"
  },
  "language_info": {
   "name": "kotlin",
   "version": "1.9.23",
   "mimetype": "text/x-kotlin",
   "file_extension": ".kt",
   "pygments_lexer": "kotlin",
   "codemirror_mode": "text/x-kotlin",
   "nbconvert_exporter": ""
  },
  "ktnbPluginMetadata": {
   "projectLibraries": false,
   "projectDependencies": [
    "json-query-kt.jvmMain"
   ]
  }
 },
 "nbformat": 4,
 "nbformat_minor": 0
}
