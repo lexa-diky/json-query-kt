{
 "cells": [
  {
   "cell_type": "code",
   "metadata": {
    "collapsed": true,
    "ExecuteTime": {
     "end_time": "2025-06-12T07:51:57.336931Z",
     "start_time": "2025-06-12T07:51:57.305528Z"
    }
   },
   "source": [
    "import java.io.File\n",
    "import kotlinx.serialization.json.*\n",
    "import io.github.lexadiky.jsonquery.*\n",
    "\n",
    "val json = Json.parseToJsonElement(\n",
    "    File(\"dataset.json\").readText()\n",
    ")"
   ],
   "outputs": [],
   "execution_count": 13
  },
  {
   "metadata": {
    "ExecuteTime": {
     "end_time": "2025-06-12T07:51:57.369093Z",
     "start_time": "2025-06-12T07:51:57.341827Z"
    }
   },
   "cell_type": "code",
   "source": [
    "// Using path\n",
    "json.query { path(\"shelter.name\") }"
   ],
   "outputs": [
    {
     "data": {
      "text/plain": [
       "\"Purrfect Paws Cat Shelter\""
      ]
     },
     "execution_count": 14,
     "metadata": {},
     "output_type": "execute_result"
    }
   ],
   "execution_count": 14
  },
  {
   "metadata": {
    "ExecuteTime": {
     "end_time": "2025-06-12T07:51:57.428571Z",
     "start_time": "2025-06-12T07:51:57.374328Z"
    }
   },
   "cell_type": "code",
   "source": [
    "// Using path with index\n",
    "println(json.query { path(\"shelter.cats\")[0].path(\"name\") })\n",
    "println(json.query { path(\"shelter.cats.0.name\") })\n",
    "println(json.query(\"shelter.cats.0.name\"))"
   ],
   "outputs": [
    {
     "name": "stdout",
     "output_type": "stream",
     "text": [
      "\"Mittens\"\n",
      "\"Mittens\"\n",
      "\"Mittens\"\n"
     ]
    }
   ],
   "execution_count": 15
  },
  {
   "metadata": {
    "ExecuteTime": {
     "end_time": "2025-06-12T07:51:57.467676Z",
     "start_time": "2025-06-12T07:51:57.432941Z"
    }
   },
   "cell_type": "code",
   "source": [
    "// Using path with in array lookup\n",
    "json.query { path(\"shelter.cats.name\") }"
   ],
   "outputs": [
    {
     "data": {
      "text/plain": [
       "[\"Mittens\",\"Shadow\",\"Mumpkin\"]"
      ]
     },
     "execution_count": 16,
     "metadata": {},
     "output_type": "execute_result"
    }
   ],
   "execution_count": 16
  },
  {
   "metadata": {
    "ExecuteTime": {
     "end_time": "2025-06-12T07:51:57.507408Z",
     "start_time": "2025-06-12T07:51:57.472447Z"
    }
   },
   "cell_type": "code",
   "source": [
    "// Using path with filter\n",
    "json.query { path(\"shelter.cats.name\").filterT<String> { it.startsWith(\"M\") } }"
   ],
   "outputs": [
    {
     "data": {
      "text/plain": [
       "[\"Mittens\",\"Mumpkin\"]"
      ]
     },
     "execution_count": 17,
     "metadata": {},
     "output_type": "execute_result"
    }
   ],
   "execution_count": 17
  },
  {
   "metadata": {
    "ExecuteTime": {
     "end_time": "2025-06-12T07:51:57.544256Z",
     "start_time": "2025-06-12T07:51:57.513434Z"
    }
   },
   "cell_type": "code",
   "source": [
    "// Slices\n",
    "json.query { path(\"shelter.cats\")[0..1].path(\"name\") }"
   ],
   "outputs": [
    {
     "data": {
      "text/plain": [
       "[\"Mittens\",\"Shadow\"]"
      ]
     },
     "execution_count": 18,
     "metadata": {},
     "output_type": "execute_result"
    }
   ],
   "execution_count": 18
  },
  {
   "metadata": {
    "ExecuteTime": {
     "end_time": "2025-06-12T07:51:57.641682Z",
     "start_time": "2025-06-12T07:51:57.549209Z"
    }
   },
   "cell_type": "code",
   "source": [
    "// Statistical operations\n",
    "println(json.query { path(\"shelter.cats.age\").max() })\n",
    "println(json.query { path(\"shelter.cats.age\").min() })\n",
    "println(json.query { path(\"shelter.cats.age\").average() })\n",
    "println(json.query { path(\"shelter.cats.age\").sum() })\n",
    "println(json.query { path(\"shelter.cats.age\").first() })\n",
    "println(json.query { path(\"shelter.cats.age\").last() })\n",
    "println(json.query { path(\"shelter.cats.age\").filterT<Int> { it >= 2 }.size() })"
   ],
   "outputs": [
    {
     "name": "stdout",
     "output_type": "stream",
     "text": [
      "3.0\n",
      "1.0\n",
      "2.0\n",
      "6.0\n",
      "3\n",
      "1\n",
      "2\n"
     ]
    }
   ],
   "execution_count": 19
  },
  {
   "metadata": {
    "ExecuteTime": {
     "end_time": "2025-06-12T07:51:57.712371Z",
     "start_time": "2025-06-12T07:51:57.652197Z"
    }
   },
   "cell_type": "code",
   "source": [
    "// Selecting specific fields\n",
    "println(json.query { path(\"shelter.cats.0\").select(\"name\", \"age\") })\n",
    "println(json.query { path(\"shelter.cats\").select(\"name\", \"age\") })"
   ],
   "outputs": [
    {
     "name": "stdout",
     "output_type": "stream",
     "text": [
      "{\"name\":\"Mittens\",\"age\":3}\n",
      "[{\"name\":\"Mittens\",\"age\":3},{\"name\":\"Shadow\",\"age\":2},{\"name\":\"Mumpkin\",\"age\":1}]\n"
     ]
    }
   ],
   "execution_count": 20
  },
  {
   "metadata": {
    "ExecuteTime": {
     "end_time": "2025-06-12T07:51:57.802021Z",
     "start_time": "2025-06-12T07:51:57.725867Z"
    }
   },
   "cell_type": "code",
   "source": [
    "// Aggregating data into object\n",
    "json.query {\n",
    "    path(\"shelter.cats\").qmap {\n",
    "        buildJsonObject {\n",
    "            put(\"names\", query { path(\"name\") })\n",
    "            put(\"ages\", query { path(\"age\") })\n",
    "        }\n",
    "    }\n",
    "}"
   ],
   "outputs": [
    {
     "data": {
      "text/plain": [
       "{\"names\":[\"Mittens\",\"Shadow\",\"Mumpkin\"],\"ages\":[3,2,1]}"
      ]
     },
     "execution_count": 21,
     "metadata": {},
     "output_type": "execute_result"
    }
   ],
   "execution_count": 21
  },
  {
   "metadata": {
    "ExecuteTime": {
     "end_time": "2025-06-12T07:51:57.878554Z",
     "start_time": "2025-06-12T07:51:57.812311Z"
    }
   },
   "cell_type": "code",
   "source": [
    "// Mapping\n",
    "val helloWorld = json.query(\"shelter.cats.0.name\")\n",
    "\n",
    "println(helloWorld.query { map { JsonPrimitive(it.jsonPrimitive.content.length) } })\n",
    "println(helloWorld.query { mapT<String, Int> { it.length } })"
   ],
   "outputs": [
    {
     "name": "stdout",
     "output_type": "stream",
     "text": [
      "7\n",
      "7\n"
     ]
    }
   ],
   "execution_count": 22
  },
  {
   "metadata": {
    "ExecuteTime": {
     "end_time": "2025-06-12T07:51:57.928606Z",
     "start_time": "2025-06-12T07:51:57.889753Z"
    }
   },
   "cell_type": "code",
   "source": [
    "// On Each\n",
    "\n",
    "json.query {\n",
    "    path(\"shelter.cats.name\").each {\n",
    "        mapT<String, Int> { it.length }\n",
    "    }\n",
    "}"
   ],
   "outputs": [
    {
     "data": {
      "text/plain": [
       "[7,6,7]"
      ]
     },
     "execution_count": 23,
     "metadata": {},
     "output_type": "execute_result"
    }
   ],
   "execution_count": 23
  }
 ],
 "metadata": {
  "kernelspec": {
   "display_name": "Kotlin",
   "language": "kotlin",
   "name": "kotlin"
  },
  "language_info": {
   "name": "kotlin",
   "version": "1.9.23",
   "mimetype": "text/x-kotlin",
   "file_extension": ".kt",
   "pygments_lexer": "kotlin",
   "codemirror_mode": "text/x-kotlin",
   "nbconvert_exporter": ""
  },
  "ktnbPluginMetadata": {
   "projectLibraries": false,
   "projectDependencies": [
    "json-query-kt.jvmMain"
   ]
  }
 },
 "nbformat": 4,
 "nbformat_minor": 0
}
