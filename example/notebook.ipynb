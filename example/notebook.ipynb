{
 "cells": [
  {
   "cell_type": "code",
   "metadata": {
    "collapsed": true,
    "ExecuteTime": {
     "end_time": "2025-06-12T07:39:42.486925Z",
     "start_time": "2025-06-12T07:39:42.455176Z"
    }
   },
   "source": [
    "import java.io.File\n",
    "import kotlinx.serialization.json.*\n",
    "import io.github.lexadiky.jsonquery.*\n",
    "\n",
    "val json = Json.parseToJsonElement(\n",
    "    File(\"dataset.json\").readText()\n",
    ")"
   ],
   "outputs": [],
   "execution_count": 12
  },
  {
   "metadata": {
    "ExecuteTime": {
     "end_time": "2025-06-12T07:39:42.520525Z",
     "start_time": "2025-06-12T07:39:42.491775Z"
    }
   },
   "cell_type": "code",
   "source": [
    "// Using path\n",
    "println(json.query { path(\"shelter.name\") })"
   ],
   "outputs": [
    {
     "name": "stdout",
     "output_type": "stream",
     "text": [
      "\"Purrfect Paws Cat Shelter\"\n"
     ]
    }
   ],
   "execution_count": 13
  },
  {
   "metadata": {
    "ExecuteTime": {
     "end_time": "2025-06-12T07:39:42.572997Z",
     "start_time": "2025-06-12T07:39:42.528736Z"
    }
   },
   "cell_type": "code",
   "source": [
    "// Using path with index\n",
    "println(json.query { path(\"shelter.cats\")[0].path(\"name\") })\n",
    "println(json.query { path(\"shelter.cats.0.name\") })\n",
    "println(json.query(\"shelter.cats.0.name\"))"
   ],
   "outputs": [
    {
     "name": "stdout",
     "output_type": "stream",
     "text": [
      "\"Mittens\"\n",
      "\"Mittens\"\n",
      "\"Mittens\"\n"
     ]
    }
   ],
   "execution_count": 14
  },
  {
   "metadata": {
    "ExecuteTime": {
     "end_time": "2025-06-12T07:39:42.610011Z",
     "start_time": "2025-06-12T07:39:42.579476Z"
    }
   },
   "cell_type": "code",
   "source": [
    "// Using path with in array lookup\n",
    "println(json.query { path(\"shelter.cats.name\") })"
   ],
   "outputs": [
    {
     "name": "stdout",
     "output_type": "stream",
     "text": [
      "[\"Mittens\",\"Shadow\",\"Mumpkin\"]\n"
     ]
    }
   ],
   "execution_count": 15
  },
  {
   "metadata": {
    "ExecuteTime": {
     "end_time": "2025-06-12T07:39:42.681212Z",
     "start_time": "2025-06-12T07:39:42.618362Z"
    }
   },
   "cell_type": "code",
   "source": [
    "// Using path with filter\n",
    "println(json.query { path(\"shelter.cats.name\").filterT<String> { it.startsWith(\"M\") } })"
   ],
   "outputs": [
    {
     "name": "stdout",
     "output_type": "stream",
     "text": [
      "[\"Mittens\",\"Mumpkin\"]\n"
     ]
    }
   ],
   "execution_count": 16
  },
  {
   "metadata": {
    "ExecuteTime": {
     "end_time": "2025-06-12T07:39:42.736039Z",
     "start_time": "2025-06-12T07:39:42.688785Z"
    }
   },
   "cell_type": "code",
   "source": [
    "// Slices\n",
    "println(json.query { path(\"shelter.cats\")[0..1].path(\"name\") })"
   ],
   "outputs": [
    {
     "name": "stdout",
     "output_type": "stream",
     "text": [
      "[\"Mittens\",\"Shadow\"]\n"
     ]
    }
   ],
   "execution_count": 17
  },
  {
   "metadata": {
    "ExecuteTime": {
     "end_time": "2025-06-12T07:39:42.934841Z",
     "start_time": "2025-06-12T07:39:42.749345Z"
    }
   },
   "cell_type": "code",
   "source": [
    "// Statistical operations\n",
    "println(json.query { path(\"shelter.cats.age\").max() })\n",
    "println(json.query { path(\"shelter.cats.age\").min() })\n",
    "println(json.query { path(\"shelter.cats.age\").average() })\n",
    "println(json.query { path(\"shelter.cats.age\").sum() })\n",
    "println(json.query { path(\"shelter.cats.age\").first() })\n",
    "println(json.query { path(\"shelter.cats.age\").last() })\n",
    "println(json.query { path(\"shelter.cats.age\").filterT<Int> { it >= 2 }.size() })"
   ],
   "outputs": [
    {
     "name": "stdout",
     "output_type": "stream",
     "text": [
      "3.0\n",
      "1.0\n",
      "2.0\n",
      "6.0\n",
      "3\n",
      "1\n",
      "2\n"
     ]
    }
   ],
   "execution_count": 18
  },
  {
   "metadata": {
    "ExecuteTime": {
     "end_time": "2025-06-12T07:39:43.026359Z",
     "start_time": "2025-06-12T07:39:42.952811Z"
    }
   },
   "cell_type": "code",
   "source": [
    "// Selecting specific fields\n",
    "println(json.query { path(\"shelter.cats.0\").select(\"name\", \"age\") })\n",
    "println(json.query { path(\"shelter.cats\").select(\"name\", \"age\") })"
   ],
   "outputs": [
    {
     "name": "stdout",
     "output_type": "stream",
     "text": [
      "{\"name\":\"Mittens\",\"age\":3}\n",
      "[{\"name\":\"Mittens\",\"age\":3},{\"name\":\"Shadow\",\"age\":2},{\"name\":\"Mumpkin\",\"age\":1}]\n"
     ]
    }
   ],
   "execution_count": 19
  },
  {
   "metadata": {
    "ExecuteTime": {
     "end_time": "2025-06-12T07:39:43.108146Z",
     "start_time": "2025-06-12T07:39:43.034083Z"
    }
   },
   "cell_type": "code",
   "source": [
    "// Aggregating data into object\n",
    "println(json.query {\n",
    "    path(\"shelter.cats\").qmap {\n",
    "        buildJsonObject {\n",
    "            put(\"names\", query { path(\"name\") })\n",
    "            put(\"ages\", query { path(\"age\") })\n",
    "        }\n",
    "    }\n",
    "})"
   ],
   "outputs": [
    {
     "name": "stdout",
     "output_type": "stream",
     "text": [
      "{\"names\":[\"Mittens\",\"Shadow\",\"Mumpkin\"],\"ages\":[3,2,1]}\n"
     ]
    }
   ],
   "execution_count": 20
  },
  {
   "metadata": {
    "ExecuteTime": {
     "end_time": "2025-06-12T07:39:43.187447Z",
     "start_time": "2025-06-12T07:39:43.116042Z"
    }
   },
   "cell_type": "code",
   "source": [
    "// Mapping\n",
    "val helloWorld = JsonPrimitive(\"Hello World\")\n",
    "\n",
    "println(helloWorld.query { map { JsonPrimitive(it.jsonPrimitive.content.length) } })\n",
    "println(helloWorld.query { mapT<String, Int> { it.length } })"
   ],
   "outputs": [
    {
     "name": "stdout",
     "output_type": "stream",
     "text": [
      "11\n",
      "11\n"
     ]
    }
   ],
   "execution_count": 21
  }
 ],
 "metadata": {
  "kernelspec": {
   "display_name": "Kotlin",
   "language": "kotlin",
   "name": "kotlin"
  },
  "language_info": {
   "name": "kotlin",
   "version": "1.9.23",
   "mimetype": "text/x-kotlin",
   "file_extension": ".kt",
   "pygments_lexer": "kotlin",
   "codemirror_mode": "text/x-kotlin",
   "nbconvert_exporter": ""
  },
  "ktnbPluginMetadata": {
   "projectLibraries": false,
   "projectDependencies": [
    "json-query-kt.jvmMain"
   ]
  }
 },
 "nbformat": 4,
 "nbformat_minor": 0
}
