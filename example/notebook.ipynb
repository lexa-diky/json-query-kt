{
 "cells": [
  {
   "cell_type": "code",
   "metadata": {
    "collapsed": true,
    "ExecuteTime": {
     "end_time": "2025-06-12T08:42:24.839106Z",
     "start_time": "2025-06-12T08:42:24.801189Z"
    }
   },
   "source": [
    "import java.io.File\n",
    "import kotlinx.serialization.json.*\n",
    "import io.github.lexadiky.jsonquery.*\n",
    "\n",
    "val json = Json.parseToJsonElement(\n",
    "    File(\"dataset.json\").readText()\n",
    ")"
   ],
   "outputs": [],
   "execution_count": 13
  },
  {
   "metadata": {
    "ExecuteTime": {
     "end_time": "2025-06-12T08:42:24.875110Z",
     "start_time": "2025-06-12T08:42:24.845018Z"
    }
   },
   "cell_type": "code",
   "source": [
    "// Using path\n",
    "json.query { path(\"shelter.name\") }"
   ],
   "outputs": [
    {
     "data": {
      "text/plain": [
       "\"Purrfect Paws Cat Shelter\""
      ]
     },
     "execution_count": 14,
     "metadata": {},
     "output_type": "execute_result"
    }
   ],
   "execution_count": 14
  },
  {
   "metadata": {
    "ExecuteTime": {
     "end_time": "2025-06-12T08:42:24.927239Z",
     "start_time": "2025-06-12T08:42:24.881465Z"
    }
   },
   "cell_type": "code",
   "source": [
    "// Using path with index\n",
    "println(json.query { path(\"shelter.cats\")[0].path(\"name\") })\n",
    "println(json.query { path(\"shelter.cats.0.name\") })\n",
    "println(json.query(\"shelter.cats.0.name\"))"
   ],
   "outputs": [
    {
     "name": "stdout",
     "output_type": "stream",
     "text": [
      "\"Mittens\"\n",
      "\"Mittens\"\n",
      "\"Mittens\"\n"
     ]
    }
   ],
   "execution_count": 15
  },
  {
   "metadata": {
    "ExecuteTime": {
     "end_time": "2025-06-12T08:42:24.959899Z",
     "start_time": "2025-06-12T08:42:24.934709Z"
    }
   },
   "cell_type": "code",
   "source": [
    "// Using path with in array lookup\n",
    "json.query { path(\"shelter.cats.name\") }"
   ],
   "outputs": [
    {
     "data": {
      "text/plain": [
       "[\"Mittens\",\"Shadow\",\"Mumpkin\"]"
      ]
     },
     "execution_count": 16,
     "metadata": {},
     "output_type": "execute_result"
    }
   ],
   "execution_count": 16
  },
  {
   "metadata": {
    "ExecuteTime": {
     "end_time": "2025-06-12T08:42:25.000347Z",
     "start_time": "2025-06-12T08:42:24.965517Z"
    }
   },
   "cell_type": "code",
   "source": [
    "// Using path with filter\n",
    "json.query { path(\"shelter.cats.name\").filterT<String> { it.startsWith(\"M\") } }"
   ],
   "outputs": [
    {
     "data": {
      "text/plain": [
       "[\"Mittens\",\"Mumpkin\"]"
      ]
     },
     "execution_count": 17,
     "metadata": {},
     "output_type": "execute_result"
    }
   ],
   "execution_count": 17
  },
  {
   "metadata": {
    "ExecuteTime": {
     "end_time": "2025-06-12T08:42:25.038182Z",
     "start_time": "2025-06-12T08:42:25.009672Z"
    }
   },
   "cell_type": "code",
   "source": [
    "// Slices\n",
    "json.query { path(\"shelter.cats\")[0..1].path(\"name\") }"
   ],
   "outputs": [
    {
     "data": {
      "text/plain": [
       "[\"Mittens\",\"Shadow\"]"
      ]
     },
     "execution_count": 18,
     "metadata": {},
     "output_type": "execute_result"
    }
   ],
   "execution_count": 18
  },
  {
   "metadata": {
    "ExecuteTime": {
     "end_time": "2025-06-12T08:42:25.232390Z",
     "start_time": "2025-06-12T08:42:25.099820Z"
    }
   },
   "cell_type": "code",
   "source": [
    "// Statistical operations\n",
    "println(json.query { path(\"shelter.cats.age\").max() })\n",
    "println(json.query { path(\"shelter.cats.age\").min() })\n",
    "println(json.query { path(\"shelter.cats.age\").average() })\n",
    "println(json.query { path(\"shelter.cats.age\").sum() })\n",
    "println(json.query { path(\"shelter.cats.age\").first() })\n",
    "println(json.query { path(\"shelter.cats.age\").last() })\n",
    "println(json.query { path(\"shelter.cats.age\").filterT<Int> { it >= 2 }.size() })"
   ],
   "outputs": [
    {
     "name": "stdout",
     "output_type": "stream",
     "text": [
      "3.0\n",
      "1.0\n",
      "2.0\n",
      "6.0\n",
      "3\n",
      "1\n",
      "2\n"
     ]
    }
   ],
   "execution_count": 19
  },
  {
   "metadata": {
    "ExecuteTime": {
     "end_time": "2025-06-12T08:42:25.293115Z",
     "start_time": "2025-06-12T08:42:25.238037Z"
    }
   },
   "cell_type": "code",
   "source": [
    "// Selecting specific fields\n",
    "println(json.query { path(\"shelter.cats.0\").select(\"name\", \"age\") })\n",
    "println(json.query { path(\"shelter.cats\").select(\"name\", \"age\") })"
   ],
   "outputs": [
    {
     "name": "stdout",
     "output_type": "stream",
     "text": [
      "{\"name\":\"Mittens\",\"age\":3}\n",
      "[{\"name\":\"Mittens\",\"age\":3},{\"name\":\"Shadow\",\"age\":2},{\"name\":\"Mumpkin\",\"age\":1}]\n"
     ]
    }
   ],
   "execution_count": 20
  },
  {
   "metadata": {
    "ExecuteTime": {
     "end_time": "2025-06-12T08:42:25.347372Z",
     "start_time": "2025-06-12T08:42:25.301994Z"
    }
   },
   "cell_type": "code",
   "source": [
    "// Aggregating data into object\n",
    "json.query {\n",
    "    path(\"shelter.cats\").qmap {\n",
    "        buildJsonObject {\n",
    "            put(\"names\", query { path(\"name\") })\n",
    "            put(\"ages\", query { path(\"age\") })\n",
    "        }\n",
    "    }\n",
    "}"
   ],
   "outputs": [
    {
     "data": {
      "text/plain": [
       "{\"names\":[\"Mittens\",\"Shadow\",\"Mumpkin\"],\"ages\":[3,2,1]}"
      ]
     },
     "execution_count": 21,
     "metadata": {},
     "output_type": "execute_result"
    }
   ],
   "execution_count": 21
  },
  {
   "metadata": {
    "ExecuteTime": {
     "end_time": "2025-06-12T08:42:25.406283Z",
     "start_time": "2025-06-12T08:42:25.352674Z"
    }
   },
   "cell_type": "code",
   "source": [
    "// Mapping\n",
    "val baseQuery = json.query(\"shelter.cats.0.name\")\n",
    "\n",
    "println(baseQuery.query { map { JsonPrimitive(it.jsonPrimitive.content.length) } })\n",
    "println(baseQuery.query { mapT<String, Int> { it.length } })"
   ],
   "outputs": [
    {
     "name": "stdout",
     "output_type": "stream",
     "text": [
      "7\n",
      "7\n"
     ]
    }
   ],
   "execution_count": 22
  },
  {
   "metadata": {
    "ExecuteTime": {
     "end_time": "2025-06-12T08:42:25.447944Z",
     "start_time": "2025-06-12T08:42:25.411814Z"
    }
   },
   "cell_type": "code",
   "source": [
    "// On Each\n",
    "json.query {\n",
    "    path(\"shelter.cats.name\").each {\n",
    "        mapT<String, Int> { it.length }\n",
    "    }\n",
    "}"
   ],
   "outputs": [
    {
     "data": {
      "text/plain": [
       "[7,6,7]"
      ]
     },
     "execution_count": 23,
     "metadata": {},
     "output_type": "execute_result"
    }
   ],
   "execution_count": 23
  },
  {
   "metadata": {
    "ExecuteTime": {
     "end_time": "2025-06-12T08:42:25.537176Z",
     "start_time": "2025-06-12T08:42:25.453006Z"
    }
   },
   "cell_type": "code",
   "source": [
    "// List and map type conversions\n",
    "println(\n",
    "    json.query {\n",
    "        path(\"shelter.cats.age\")\n",
    "            .mapT<List<String>, String> { it.joinToString(\", \") }\n",
    "    }\n",
    ")\n",
    "\n",
    "println(\n",
    "    json.query {\n",
    "        path(\"shelter.cats.0\")\n",
    "            .mapT<Map<String, String>, List<String>> { it.keys.toList() }\n",
    "    }\n",
    ")"
   ],
   "outputs": [
    {
     "name": "stdout",
     "output_type": "stream",
     "text": [
      "\"3, 2, 1\"\n",
      "[\"id\",\"name\",\"age\",\"breed\",\"color\",\"gender\",\"adopted\",\"medicalRecords\",\"favoriteToys\",\"friends\"]\n"
     ]
    }
   ],
   "execution_count": 24
  }
 ],
 "metadata": {
  "kernelspec": {
   "display_name": "Kotlin",
   "language": "kotlin",
   "name": "kotlin"
  },
  "language_info": {
   "name": "kotlin",
   "version": "1.9.23",
   "mimetype": "text/x-kotlin",
   "file_extension": ".kt",
   "pygments_lexer": "kotlin",
   "codemirror_mode": "text/x-kotlin",
   "nbconvert_exporter": ""
  },
  "ktnbPluginMetadata": {
   "projectLibraries": false,
   "projectDependencies": [
    "json-query-kt.jvmMain"
   ]
  }
 },
 "nbformat": 4,
 "nbformat_minor": 0
}
